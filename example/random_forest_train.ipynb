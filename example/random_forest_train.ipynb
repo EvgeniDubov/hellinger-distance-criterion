{
 "cells": [
  {
   "cell_type": "code",
   "execution_count": 48,
   "metadata": {
    "collapsed": true
   },
   "outputs": [],
   "source": [
    "import numpy as np\n",
    "from hellinger_distance_criterion import HellingerDistanceCriterion\n",
    "from sklearn.datasets import make_classification\n",
    "from sklearn.model_selection import train_test_split\n",
    "from sklearn.ensemble import RandomForestClassifier"
   ]
  },
  {
   "cell_type": "markdown",
   "metadata": {},
   "source": [
    "# Random Forest criterions comparison "
   ]
  },
  {
   "cell_type": "code",
   "execution_count": 50,
   "metadata": {
    "collapsed": false
   },
   "outputs": [],
   "source": [
    "def compare(X_train, y_train, X_test, y_test):\n",
    "    clf = RandomForestClassifier(criterion='gini', max_depth=4, n_estimators=100)\n",
    "    clf.fit(X_train, y_train)\n",
    "    print('gini score: ', clf.score(X_test, y_test))\n",
    "\n",
    "    clf = RandomForestClassifier(criterion='entropy', max_depth=4, n_estimators=100)\n",
    "    clf.fit(X_train, y_train)\n",
    "    print('entropy score: ', clf.score(X_test, y_test))\n",
    "\n",
    "    hdc = HellingerDistanceCriterion(1, np.array([2],dtype='int64'))\n",
    "    clf = RandomForestClassifier(criterion=hdc, max_depth=4, n_estimators=100)\n",
    "    clf.fit(X_train, y_train)\n",
    "    print('hellinger distance score: ', clf.score(X_test, y_test))"
   ]
  },
  {
   "cell_type": "markdown",
   "metadata": {},
   "source": [
    "# Comparison on breast cancer dataset"
   ]
  },
  {
   "cell_type": "code",
   "execution_count": 57,
   "metadata": {
    "collapsed": false
   },
   "outputs": [
    {
     "name": "stdout",
     "output_type": "stream",
     "text": [
      "gini score:  0.9415204678362573\n",
      "entropy score:  0.9415204678362573\n",
      "hellinger distance score:  0.9298245614035088\n"
     ]
    }
   ],
   "source": [
    "bc = load_breast_cancer()\n",
    "X_train, X_test, y_train, y_test = train_test_split(bc.data, bc.target, test_size=0.3)\n",
    "compare(X_train, y_train, X_test, y_test)"
   ]
  },
  {
   "cell_type": "markdown",
   "metadata": {},
   "source": [
    "# Comparison on custom dataset"
   ]
  },
  {
   "cell_type": "code",
   "execution_count": 64,
   "metadata": {
    "collapsed": false
   },
   "outputs": [
    {
     "name": "stdout",
     "output_type": "stream",
     "text": [
      "gini score:  0.94575\n",
      "entropy score:  0.9455\n",
      "hellinger distance score:  0.94525\n"
     ]
    }
   ],
   "source": [
    "X, y = make_classification(n_samples=10000, n_features=40, n_informative=5, n_classes=2, weights=[0.05,0.95], random_state=1)\n",
    "X_train, X_test, y_train, y_test = train_test_split(X, y, test_size=0.4)\n",
    "compare(X_train, y_train, X_test, y_test)"
   ]
  },
  {
   "cell_type": "code",
   "execution_count": null,
   "metadata": {
    "collapsed": true
   },
   "outputs": [],
   "source": []
  }
 ],
 "metadata": {
  "kernelspec": {
   "display_name": "Python 3",
   "language": "python",
   "name": "python3"
  },
  "language_info": {
   "codemirror_mode": {
    "name": "ipython",
    "version": 3
   },
   "file_extension": ".py",
   "mimetype": "text/x-python",
   "name": "python",
   "nbconvert_exporter": "python",
   "pygments_lexer": "ipython3",
   "version": "3.6.0"
  }
 },
 "nbformat": 4,
 "nbformat_minor": 2
}
